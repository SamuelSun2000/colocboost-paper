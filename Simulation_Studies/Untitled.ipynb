{
 "cells": [
  {
   "cell_type": "code",
   "execution_count": 1,
   "id": "4c0c67b6-1862-42e9-9fdc-064e0068c855",
   "metadata": {
    "tags": []
   },
   "outputs": [],
   "source": [
    "for(file in list.files(\"/home/xc2270/COLOCBoost/code_COLOCBoost/release\", full.names = T)) {source(file)}"
   ]
  },
  {
   "cell_type": "code",
   "execution_count": 30,
   "id": "9c4f8644-cbd9-4601-9111-513cdf307805",
   "metadata": {
    "tags": []
   },
   "outputs": [
    {
     "name": "stderr",
     "output_type": "stream",
     "text": [
      "Validating input data.\n",
      "\n",
      "Starting gradient boosting algorithm.\n",
      "\n",
      "Gradient boosting for outcome 1 converged after 13 iterations!\n",
      "\n",
      "Performing inference on colocalization events.\n",
      "\n"
     ]
    }
   ],
   "source": [
    "for(file in list.files(\"/home/xc2270/COLOCBoost/code_COLOCBoost/release\", full.names = T)) {source(file)}\n",
    "res = readRDS(\"/home/hs3393/cb_simulation/simulation_data/real_simulation_5trait/sample_1_real_simulation_1_ncausal_5_trait.rds\")\n",
    "X = res$X\n",
    "Y = res$Y[,1]\n",
    "colocboost_result = colocboost( output_level = 2,\n",
    "  X = X, \n",
    "  Y = Y\n",
    ")"
   ]
  },
  {
   "cell_type": "code",
   "execution_count": 32,
   "id": "ab2c7579-a94b-482d-baa1-1f4bfe9f6577",
   "metadata": {
    "tags": []
   },
   "outputs": [
    {
     "data": {
      "text/html": [
       "<strong>$`ucos1:y1`</strong> = 3019"
      ],
      "text/latex": [
       "\\textbf{\\$`ucos1:y1`} = 3019"
      ],
      "text/markdown": [
       "**$`ucos1:y1`** = 3019"
      ],
      "text/plain": [
       "$`ucos1:y1`\n",
       "[1] 3019\n"
      ]
     },
     "metadata": {},
     "output_type": "display_data"
    }
   ],
   "source": [
    "colocboost_result$ucos_details$ucos$ucos_index"
   ]
  },
  {
   "cell_type": "code",
   "execution_count": 17,
   "id": "06bca031-b4d1-43f4-b766-5ec1b0b9ce57",
   "metadata": {
    "tags": []
   },
   "outputs": [
    {
     "data": {
      "text/html": [
       "<dl>\n",
       "\t<dt>$`cos1:y9_y10`</dt>\n",
       "\t\t<dd>1452</dd>\n",
       "\t<dt>$`cos2:y7_y8`</dt>\n",
       "\t\t<dd>4571</dd>\n",
       "\t<dt>$`cos3:y4_y5_y6`</dt>\n",
       "\t\t<dd><style>\n",
       ".list-inline {list-style: none; margin:0; padding: 0}\n",
       ".list-inline>li {display: inline-block}\n",
       ".list-inline>li:not(:last-child)::after {content: \"\\00b7\"; padding: 0 .5ex}\n",
       "</style>\n",
       "<ol class=list-inline><li>2515</li><li>2526</li><li>2532</li><li>2628</li><li>2547</li><li>2548</li><li>2550</li><li>2555</li><li>2567</li><li>2579</li><li>2597</li><li>2618</li><li>2621</li><li>2635</li><li>2644</li><li>2663</li><li>2667</li><li>2629</li><li>2576</li><li>2719</li><li>2724</li><li>2731</li></ol>\n",
       "</dd>\n",
       "\t<dt>$`cos4:y1_y2_y3`</dt>\n",
       "\t\t<dd><style>\n",
       ".list-inline {list-style: none; margin:0; padding: 0}\n",
       ".list-inline>li {display: inline-block}\n",
       ".list-inline>li:not(:last-child)::after {content: \"\\00b7\"; padding: 0 .5ex}\n",
       "</style>\n",
       "<ol class=list-inline><li>1876</li><li>1920</li><li>1866</li></ol>\n",
       "</dd>\n",
       "</dl>\n"
      ],
      "text/latex": [
       "\\begin{description}\n",
       "\\item[\\$`cos1:y9\\_y10`] 1452\n",
       "\\item[\\$`cos2:y7\\_y8`] 4571\n",
       "\\item[\\$`cos3:y4\\_y5\\_y6`] \\begin{enumerate*}\n",
       "\\item 2515\n",
       "\\item 2526\n",
       "\\item 2532\n",
       "\\item 2628\n",
       "\\item 2547\n",
       "\\item 2548\n",
       "\\item 2550\n",
       "\\item 2555\n",
       "\\item 2567\n",
       "\\item 2579\n",
       "\\item 2597\n",
       "\\item 2618\n",
       "\\item 2621\n",
       "\\item 2635\n",
       "\\item 2644\n",
       "\\item 2663\n",
       "\\item 2667\n",
       "\\item 2629\n",
       "\\item 2576\n",
       "\\item 2719\n",
       "\\item 2724\n",
       "\\item 2731\n",
       "\\end{enumerate*}\n",
       "\n",
       "\\item[\\$`cos4:y1\\_y2\\_y3`] \\begin{enumerate*}\n",
       "\\item 1876\n",
       "\\item 1920\n",
       "\\item 1866\n",
       "\\end{enumerate*}\n",
       "\n",
       "\\end{description}\n"
      ],
      "text/markdown": [
       "$`cos1:y9_y10`\n",
       ":   1452\n",
       "$`cos2:y7_y8`\n",
       ":   4571\n",
       "$`cos3:y4_y5_y6`\n",
       ":   1. 2515\n",
       "2. 2526\n",
       "3. 2532\n",
       "4. 2628\n",
       "5. 2547\n",
       "6. 2548\n",
       "7. 2550\n",
       "8. 2555\n",
       "9. 2567\n",
       "10. 2579\n",
       "11. 2597\n",
       "12. 2618\n",
       "13. 2621\n",
       "14. 2635\n",
       "15. 2644\n",
       "16. 2663\n",
       "17. 2667\n",
       "18. 2629\n",
       "19. 2576\n",
       "20. 2719\n",
       "21. 2724\n",
       "22. 2731\n",
       "\n",
       "\n",
       "\n",
       "$`cos4:y1_y2_y3`\n",
       ":   1. 1876\n",
       "2. 1920\n",
       "3. 1866\n",
       "\n",
       "\n",
       "\n",
       "\n",
       "\n"
      ],
      "text/plain": [
       "$`cos1:y9_y10`\n",
       "[1] 1452\n",
       "\n",
       "$`cos2:y7_y8`\n",
       "[1] 4571\n",
       "\n",
       "$`cos3:y4_y5_y6`\n",
       " [1] 2515 2526 2532 2628 2547 2548 2550 2555 2567 2579 2597 2618 2621 2635 2644\n",
       "[16] 2663 2667 2629 2576 2719 2724 2731\n",
       "\n",
       "$`cos4:y1_y2_y3`\n",
       "[1] 1876 1920 1866\n"
      ]
     },
     "metadata": {},
     "output_type": "display_data"
    }
   ],
   "source": [
    "colocboost_result$cos_details$cos$cos_index"
   ]
  },
  {
   "cell_type": "code",
   "execution_count": 9,
   "id": "859e1444-aa60-42de-b5d1-51aa92d112ed",
   "metadata": {
    "tags": []
   },
   "outputs": [
    {
     "data": {
      "text/html": [
       "<dl>\n",
       "\t<dt>$`cos1:y9_y10`</dt>\n",
       "\t\t<dd>1452</dd>\n",
       "\t<dt>$`cos2:y7_y8`</dt>\n",
       "\t\t<dd>4571</dd>\n",
       "\t<dt>$`cos3:y4_y5_y6`</dt>\n",
       "\t\t<dd><style>\n",
       ".list-inline {list-style: none; margin:0; padding: 0}\n",
       ".list-inline>li {display: inline-block}\n",
       ".list-inline>li:not(:last-child)::after {content: \"\\00b7\"; padding: 0 .5ex}\n",
       "</style>\n",
       "<ol class=list-inline><li>2515</li><li>2526</li><li>2532</li><li>2628</li><li>2547</li><li>2548</li><li>2550</li><li>2555</li><li>2567</li><li>2579</li><li>2597</li><li>2618</li><li>2621</li><li>2635</li><li>2644</li><li>2663</li><li>2667</li><li>2629</li><li>2576</li><li>2719</li><li>2724</li><li>2731</li></ol>\n",
       "</dd>\n",
       "\t<dt>$`cos4:y1_y2_y3`</dt>\n",
       "\t\t<dd><style>\n",
       ".list-inline {list-style: none; margin:0; padding: 0}\n",
       ".list-inline>li {display: inline-block}\n",
       ".list-inline>li:not(:last-child)::after {content: \"\\00b7\"; padding: 0 .5ex}\n",
       "</style>\n",
       "<ol class=list-inline><li>1876</li><li>1920</li><li>1866</li></ol>\n",
       "</dd>\n",
       "</dl>\n"
      ],
      "text/latex": [
       "\\begin{description}\n",
       "\\item[\\$`cos1:y9\\_y10`] 1452\n",
       "\\item[\\$`cos2:y7\\_y8`] 4571\n",
       "\\item[\\$`cos3:y4\\_y5\\_y6`] \\begin{enumerate*}\n",
       "\\item 2515\n",
       "\\item 2526\n",
       "\\item 2532\n",
       "\\item 2628\n",
       "\\item 2547\n",
       "\\item 2548\n",
       "\\item 2550\n",
       "\\item 2555\n",
       "\\item 2567\n",
       "\\item 2579\n",
       "\\item 2597\n",
       "\\item 2618\n",
       "\\item 2621\n",
       "\\item 2635\n",
       "\\item 2644\n",
       "\\item 2663\n",
       "\\item 2667\n",
       "\\item 2629\n",
       "\\item 2576\n",
       "\\item 2719\n",
       "\\item 2724\n",
       "\\item 2731\n",
       "\\end{enumerate*}\n",
       "\n",
       "\\item[\\$`cos4:y1\\_y2\\_y3`] \\begin{enumerate*}\n",
       "\\item 1876\n",
       "\\item 1920\n",
       "\\item 1866\n",
       "\\end{enumerate*}\n",
       "\n",
       "\\end{description}\n"
      ],
      "text/markdown": [
       "$`cos1:y9_y10`\n",
       ":   1452\n",
       "$`cos2:y7_y8`\n",
       ":   4571\n",
       "$`cos3:y4_y5_y6`\n",
       ":   1. 2515\n",
       "2. 2526\n",
       "3. 2532\n",
       "4. 2628\n",
       "5. 2547\n",
       "6. 2548\n",
       "7. 2550\n",
       "8. 2555\n",
       "9. 2567\n",
       "10. 2579\n",
       "11. 2597\n",
       "12. 2618\n",
       "13. 2621\n",
       "14. 2635\n",
       "15. 2644\n",
       "16. 2663\n",
       "17. 2667\n",
       "18. 2629\n",
       "19. 2576\n",
       "20. 2719\n",
       "21. 2724\n",
       "22. 2731\n",
       "\n",
       "\n",
       "\n",
       "$`cos4:y1_y2_y3`\n",
       ":   1. 1876\n",
       "2. 1920\n",
       "3. 1866\n",
       "\n",
       "\n",
       "\n",
       "\n",
       "\n"
      ],
      "text/plain": [
       "$`cos1:y9_y10`\n",
       "[1] 1452\n",
       "\n",
       "$`cos2:y7_y8`\n",
       "[1] 4571\n",
       "\n",
       "$`cos3:y4_y5_y6`\n",
       " [1] 2515 2526 2532 2628 2547 2548 2550 2555 2567 2579 2597 2618 2621 2635 2644\n",
       "[16] 2663 2667 2629 2576 2719 2724 2731\n",
       "\n",
       "$`cos4:y1_y2_y3`\n",
       "[1] 1876 1920 1866\n"
      ]
     },
     "metadata": {},
     "output_type": "display_data"
    }
   ],
   "source": [
    "colocboost_result$cos_details$cos$cos_index"
   ]
  },
  {
   "cell_type": "code",
   "execution_count": null,
   "id": "e3edaad8-24c4-467d-8236-181e98907d37",
   "metadata": {},
   "outputs": [],
   "source": []
  }
 ],
 "metadata": {
  "kernelspec": {
   "display_name": "R",
   "language": "R",
   "name": "ir"
  },
  "language_info": {
   "codemirror_mode": "r",
   "file_extension": ".r",
   "mimetype": "text/x-r-source",
   "name": "R",
   "pygments_lexer": "r",
   "version": "4.3.3"
  }
 },
 "nbformat": 4,
 "nbformat_minor": 5
}
