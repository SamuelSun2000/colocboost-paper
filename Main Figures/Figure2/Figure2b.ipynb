{
 "cells": [
  {
   "cell_type": "markdown",
   "id": "24e71e1d-e45e-4ebe-adfb-8ef52d66018e",
   "metadata": {},
   "source": [
    "# Figure 2b. Representative simulation examples.\n",
    "\n",
    "Representative simulation example highlighting a scenario which ColocBoost correctly resolves, but HyPrColoc misses true signals and admis false positives. "
   ]
  },
  {
   "cell_type": "markdown",
   "id": "5fdcc9d6-5752-4a9b-998e-d38cc949b43d",
   "metadata": {},
   "source": [
    "## 1. Heterogeneous effects for two causal variants\n",
    "\n",
    "When analyzing multiple causal variants, it's important to consider that they may exhibit heterogeneous effects across different contexts, populations, or individuals. "
   ]
  },
  {
   "cell_type": "markdown",
   "id": "0ef61800-a274-40f1-ae9e-d80cf7b24789",
   "metadata": {},
   "source": [
    "### ColocBoost identify two CoS including two true causal variants."
   ]
  },
  {
   "cell_type": "code",
   "execution_count": 4,
   "id": "e62724ce-8683-4d6b-84c6-c6a23ddecf91",
   "metadata": {
    "tags": []
   },
   "outputs": [
    {
     "data": {
      "text/html": [
       "<style>\n",
       ".list-inline {list-style: none; margin:0; padding: 0}\n",
       ".list-inline>li {display: inline-block}\n",
       ".list-inline>li:not(:last-child)::after {content: \"\\00b7\"; padding: 0 .5ex}\n",
       "</style>\n",
       "<ol class=list-inline><li>622</li><li>1275</li></ol>\n"
      ],
      "text/latex": [
       "\\begin{enumerate*}\n",
       "\\item 622\n",
       "\\item 1275\n",
       "\\end{enumerate*}\n"
      ],
      "text/markdown": [
       "1. 622\n",
       "2. 1275\n",
       "\n",
       "\n"
      ],
      "text/plain": [
       "[1]  622 1275"
      ]
     },
     "metadata": {},
     "output_type": "display_data"
    }
   ],
   "source": [
    "library(tidyverse)\n",
    "data <- readRDS(\"Figure2b.rds\")$HeterogeneousEffect\n",
    "X <- data$X\n",
    "Y <- data$Y\n",
    "data$variant"
   ]
  },
  {
   "cell_type": "code",
   "execution_count": 5,
   "id": "1c43f09f-20f5-49cd-8c4d-fd206d4e2f1d",
   "metadata": {
    "tags": []
   },
   "outputs": [
    {
     "name": "stderr",
     "output_type": "stream",
     "text": [
      "Starting checking the input data.\n",
      "\n",
      "Starting gradient boosting algorithm.\n",
      "\n",
      "Boosting iterations for outcome 1 converge after 51 iterations!\n",
      "\n",
      "Boosting iterations for outcome 2 converge after 56 iterations!\n",
      "\n",
      "Starting assemble analyses and results summary.\n",
      "\n"
     ]
    },
    {
     "data": {
      "text/html": [
       "<dl>\n",
       "\t<dt>$`cos1:y1_y2`</dt>\n",
       "\t\t<dd>622</dd>\n",
       "\t<dt>$`cos2:y1_y2`</dt>\n",
       "\t\t<dd><style>\n",
       ".list-inline {list-style: none; margin:0; padding: 0}\n",
       ".list-inline>li {display: inline-block}\n",
       ".list-inline>li:not(:last-child)::after {content: \"\\00b7\"; padding: 0 .5ex}\n",
       "</style>\n",
       "<ol class=list-inline><li>1293</li><li>1270</li><li>1288</li><li>1287</li><li>1305</li><li>1300</li><li>1275</li><li>1271</li><li>1273</li><li>1290</li><li>1291</li></ol>\n",
       "</dd>\n",
       "</dl>\n"
      ],
      "text/latex": [
       "\\begin{description}\n",
       "\\item[\\$`cos1:y1\\_y2`] 622\n",
       "\\item[\\$`cos2:y1\\_y2`] \\begin{enumerate*}\n",
       "\\item 1293\n",
       "\\item 1270\n",
       "\\item 1288\n",
       "\\item 1287\n",
       "\\item 1305\n",
       "\\item 1300\n",
       "\\item 1275\n",
       "\\item 1271\n",
       "\\item 1273\n",
       "\\item 1290\n",
       "\\item 1291\n",
       "\\end{enumerate*}\n",
       "\n",
       "\\end{description}\n"
      ],
      "text/markdown": [
       "$`cos1:y1_y2`\n",
       ":   622\n",
       "$`cos2:y1_y2`\n",
       ":   1. 1293\n",
       "2. 1270\n",
       "3. 1288\n",
       "4. 1287\n",
       "5. 1305\n",
       "6. 1300\n",
       "7. 1275\n",
       "8. 1271\n",
       "9. 1273\n",
       "10. 1290\n",
       "11. 1291\n",
       "\n",
       "\n",
       "\n",
       "\n",
       "\n"
      ],
      "text/plain": [
       "$`cos1:y1_y2`\n",
       "[1] 622\n",
       "\n",
       "$`cos2:y1_y2`\n",
       " [1] 1293 1270 1288 1287 1305 1300 1275 1271 1273 1290 1291\n"
      ]
     },
     "metadata": {},
     "output_type": "display_data"
    }
   ],
   "source": [
    "res <- colocboost(X = X, Y = Y)\n",
    "res$cos_details$cos$cos_index"
   ]
  },
  {
   "cell_type": "code",
   "execution_count": 6,
   "id": "28c75410-128d-435f-8fe4-cf9517a6092c",
   "metadata": {
    "tags": []
   },
   "outputs": [
    {
     "data": {
      "text/html": [
       "<table class=\"dataframe\">\n",
       "<caption>A data.frame: 2 × 11</caption>\n",
       "<thead>\n",
       "\t<tr><th></th><th scope=col>target_outcome</th><th scope=col>colocalized_outcomes</th><th scope=col>cos_id</th><th scope=col>purity</th><th scope=col>top_variable</th><th scope=col>top_variable_vcp</th><th scope=col>cos_npc</th><th scope=col>n_variables</th><th scope=col>colocalized_index</th><th scope=col>colocalized_variables</th><th scope=col>colocalized_variables_vcp</th></tr>\n",
       "\t<tr><th></th><th scope=col>&lt;chr&gt;</th><th scope=col>&lt;chr&gt;</th><th scope=col>&lt;chr&gt;</th><th scope=col>&lt;dbl&gt;</th><th scope=col>&lt;chr&gt;</th><th scope=col>&lt;dbl&gt;</th><th scope=col>&lt;dbl&gt;</th><th scope=col>&lt;dbl&gt;</th><th scope=col>&lt;chr&gt;</th><th scope=col>&lt;chr&gt;</th><th scope=col>&lt;chr&gt;</th></tr>\n",
       "</thead>\n",
       "<tbody>\n",
       "\t<tr><th scope=row>1</th><td>NA</td><td>Y1; Y2</td><td>cos1:y1_y2</td><td>1.0000000</td><td>chr3:112804473_CCTT_TCTT</td><td>0.9998783</td><td>0.9854634</td><td> 1</td><td>622                                                             </td><td>chr3:112804473_CCTT_TCTT                                                                                                                                                                                                    </td><td>0.999878302330088                                                                                                                                                                                                    </td></tr>\n",
       "\t<tr><th scope=row>2</th><td>NA</td><td>Y1; Y2</td><td>cos2:y1_y2</td><td>0.9947614</td><td>chr3:113083136_A_G      </td><td>0.1366141</td><td>0.9676439</td><td>11</td><td>1293; 1270; 1288; 1287; 1305; 1300; 1275; 1271; 1273; 1290; 1291</td><td>chr3:113083136_A_G; chr3:113080115_G_GA; chr3:113082358_A_G; chr3:113081994_G_C; chr3:113086302_C_T; chr3:113085245_C_G; chr3:113081048_AT_A; chr3:113080553_T_C; chr3:113080703_A_C; chr3:113082509_T_A; chr3:113082597_T_C</td><td>0.136614052992149; 0.110658161838286; 0.110658161838286; 0.107074382866662; 0.101533545239383; 0.0999267536841275; 0.0637647280276862; 0.0590622913527449; 0.0590622913527449; 0.0590622913527449; 0.0590622913527449</td></tr>\n",
       "</tbody>\n",
       "</table>\n"
      ],
      "text/latex": [
       "A data.frame: 2 × 11\n",
       "\\begin{tabular}{r|lllllllllll}\n",
       "  & target\\_outcome & colocalized\\_outcomes & cos\\_id & purity & top\\_variable & top\\_variable\\_vcp & cos\\_npc & n\\_variables & colocalized\\_index & colocalized\\_variables & colocalized\\_variables\\_vcp\\\\\n",
       "  & <chr> & <chr> & <chr> & <dbl> & <chr> & <dbl> & <dbl> & <dbl> & <chr> & <chr> & <chr>\\\\\n",
       "\\hline\n",
       "\t1 & NA & Y1; Y2 & cos1:y1\\_y2 & 1.0000000 & chr3:112804473\\_CCTT\\_TCTT & 0.9998783 & 0.9854634 &  1 & 622                                                              & chr3:112804473\\_CCTT\\_TCTT                                                                                                                                                                                                     & 0.999878302330088                                                                                                                                                                                                    \\\\\n",
       "\t2 & NA & Y1; Y2 & cos2:y1\\_y2 & 0.9947614 & chr3:113083136\\_A\\_G       & 0.1366141 & 0.9676439 & 11 & 1293; 1270; 1288; 1287; 1305; 1300; 1275; 1271; 1273; 1290; 1291 & chr3:113083136\\_A\\_G; chr3:113080115\\_G\\_GA; chr3:113082358\\_A\\_G; chr3:113081994\\_G\\_C; chr3:113086302\\_C\\_T; chr3:113085245\\_C\\_G; chr3:113081048\\_AT\\_A; chr3:113080553\\_T\\_C; chr3:113080703\\_A\\_C; chr3:113082509\\_T\\_A; chr3:113082597\\_T\\_C & 0.136614052992149; 0.110658161838286; 0.110658161838286; 0.107074382866662; 0.101533545239383; 0.0999267536841275; 0.0637647280276862; 0.0590622913527449; 0.0590622913527449; 0.0590622913527449; 0.0590622913527449\\\\\n",
       "\\end{tabular}\n"
      ],
      "text/markdown": [
       "\n",
       "A data.frame: 2 × 11\n",
       "\n",
       "| <!--/--> | target_outcome &lt;chr&gt; | colocalized_outcomes &lt;chr&gt; | cos_id &lt;chr&gt; | purity &lt;dbl&gt; | top_variable &lt;chr&gt; | top_variable_vcp &lt;dbl&gt; | cos_npc &lt;dbl&gt; | n_variables &lt;dbl&gt; | colocalized_index &lt;chr&gt; | colocalized_variables &lt;chr&gt; | colocalized_variables_vcp &lt;chr&gt; |\n",
       "|---|---|---|---|---|---|---|---|---|---|---|---|\n",
       "| 1 | NA | Y1; Y2 | cos1:y1_y2 | 1.0000000 | chr3:112804473_CCTT_TCTT | 0.9998783 | 0.9854634 |  1 | 622                                                              | chr3:112804473_CCTT_TCTT                                                                                                                                                                                                     | 0.999878302330088                                                                                                                                                                                                     |\n",
       "| 2 | NA | Y1; Y2 | cos2:y1_y2 | 0.9947614 | chr3:113083136_A_G       | 0.1366141 | 0.9676439 | 11 | 1293; 1270; 1288; 1287; 1305; 1300; 1275; 1271; 1273; 1290; 1291 | chr3:113083136_A_G; chr3:113080115_G_GA; chr3:113082358_A_G; chr3:113081994_G_C; chr3:113086302_C_T; chr3:113085245_C_G; chr3:113081048_AT_A; chr3:113080553_T_C; chr3:113080703_A_C; chr3:113082509_T_A; chr3:113082597_T_C | 0.136614052992149; 0.110658161838286; 0.110658161838286; 0.107074382866662; 0.101533545239383; 0.0999267536841275; 0.0637647280276862; 0.0590622913527449; 0.0590622913527449; 0.0590622913527449; 0.0590622913527449 |\n",
       "\n"
      ],
      "text/plain": [
       "  target_outcome colocalized_outcomes cos_id     purity   \n",
       "1 NA             Y1; Y2               cos1:y1_y2 1.0000000\n",
       "2 NA             Y1; Y2               cos2:y1_y2 0.9947614\n",
       "  top_variable             top_variable_vcp cos_npc   n_variables\n",
       "1 chr3:112804473_CCTT_TCTT 0.9998783        0.9854634  1         \n",
       "2 chr3:113083136_A_G       0.1366141        0.9676439 11         \n",
       "  colocalized_index                                               \n",
       "1 622                                                             \n",
       "2 1293; 1270; 1288; 1287; 1305; 1300; 1275; 1271; 1273; 1290; 1291\n",
       "  colocalized_variables                                                                                                                                                                                                       \n",
       "1 chr3:112804473_CCTT_TCTT                                                                                                                                                                                                    \n",
       "2 chr3:113083136_A_G; chr3:113080115_G_GA; chr3:113082358_A_G; chr3:113081994_G_C; chr3:113086302_C_T; chr3:113085245_C_G; chr3:113081048_AT_A; chr3:113080553_T_C; chr3:113080703_A_C; chr3:113082509_T_A; chr3:113082597_T_C\n",
       "  colocalized_variables_vcp                                                                                                                                                                                            \n",
       "1 0.999878302330088                                                                                                                                                                                                    \n",
       "2 0.136614052992149; 0.110658161838286; 0.110658161838286; 0.107074382866662; 0.101533545239383; 0.0999267536841275; 0.0637647280276862; 0.0590622913527449; 0.0590622913527449; 0.0590622913527449; 0.0590622913527449"
      ]
     },
     "metadata": {},
     "output_type": "display_data"
    }
   ],
   "source": [
    "res$cos_summary"
   ]
  },
  {
   "cell_type": "code",
   "execution_count": 7,
   "id": "1e590c83-5831-4132-837a-d46f7e9015a3",
   "metadata": {
    "tags": []
   },
   "outputs": [
    {
     "data": {
      "image/png": "[encoded data removed]",
      "text/plain": [
       "plot without title"
      ]
     },
     "metadata": {
      "image/png": {
       "height": 360,
       "width": 600
      }
     },
     "output_type": "display_data"
    }
   ],
   "source": [
    "options(repr.plot.width = 10, repr.plot.height = 6)\n",
    "colocboost_plot(res, plot_cols = 1, add_vertical = T, add_vertical_idx = c(data$variant))"
   ]
  },
  {
   "cell_type": "code",
   "execution_count": 8,
   "id": "aec46069-9972-40ca-9055-ff1a446cd5be",
   "metadata": {
    "tags": []
   },
   "outputs": [
    {
     "data": {
      "image/png": "[encoded data removed]",
      "text/plain": [
       "plot without title"
      ]
     },
     "metadata": {
      "image/png": {
       "height": 360,
       "width": 600
      }
     },
     "output_type": "display_data"
    }
   ],
   "source": [
    "colocboost_plot(res, y = \"vcp\", plot_cols = 1, add_vertical = T, add_vertical_idx = c(data$variant))"
   ]
  },
  {
   "cell_type": "markdown",
   "id": "29d179a5-2014-4cbc-a897-b2c1b97e0647",
   "metadata": {},
   "source": [
    "### HyPrColoc"
   ]
  },
  {
   "cell_type": "code",
   "execution_count": 9,
   "id": "eafb23b0-35e9-442d-b880-754f341fac1f",
   "metadata": {
    "tags": []
   },
   "outputs": [
    {
     "name": "stderr",
     "output_type": "stream",
     "text": [
      "Warning message:\n",
      "“replacing previous import ‘Matrix::tcrossprod’ by ‘Rmpfr::tcrossprod’ when loading ‘hyprcoloc’”\n",
      "Warning message:\n",
      "“replacing previous import ‘Matrix::crossprod’ by ‘Rmpfr::crossprod’ when loading ‘hyprcoloc’”\n",
      "Warning message:\n",
      "“replacing previous import ‘Matrix::.__C__atomicVector’ by ‘Rmpfr::.__C__atomicVector’ when loading ‘hyprcoloc’”\n"
     ]
    }
   ],
   "source": [
    "library(hyprcoloc)\n",
    "betas = sebetas = matrix(NA, nrow = ncol(X), ncol = 2) \n",
    "for (i in 1:2){\n",
    "    x <- scale(X)\n",
    "    y <- scale(Y[,i])\n",
    "    rr <- susieR::univariate_regression(x, y)\n",
    "    betas[,i] = rr$betahat\n",
    "    sebetas[, i] <- rr$sebetahat\n",
    "}\n",
    "traits <- c(1:2)\n",
    "rsid <- paste0(\"snp\", c(1:ncol(X)))\n",
    "colnames(betas) <- colnames(sebetas) <- traits\n",
    "rownames(betas) <- rownames(sebetas) <- rsid\n",
    "res_hyprcoloc <- hyprcoloc(betas, sebetas, trait.names=traits, snp.id=rsid, snpscores = TRUE)"
   ]
  },
  {
   "cell_type": "code",
   "execution_count": 10,
   "id": "36936a3b-3c5a-42be-93d9-403aeb3349d9",
   "metadata": {
    "tags": []
   },
   "outputs": [
    {
     "data": {
      "text/html": [
       "<table class=\"dataframe\">\n",
       "<caption>A data.frame: 1 × 7</caption>\n",
       "<thead>\n",
       "\t<tr><th scope=col>iteration</th><th scope=col>traits</th><th scope=col>posterior_prob</th><th scope=col>regional_prob</th><th scope=col>candidate_snp</th><th scope=col>posterior_explained_by_snp</th><th scope=col>dropped_trait</th></tr>\n",
       "\t<tr><th scope=col>&lt;dbl&gt;</th><th scope=col>&lt;chr&gt;</th><th scope=col>&lt;lgl&gt;</th><th scope=col>&lt;dbl&gt;</th><th scope=col>&lt;lgl&gt;</th><th scope=col>&lt;dbl&gt;</th><th scope=col>&lt;chr&gt;</th></tr>\n",
       "</thead>\n",
       "<tbody>\n",
       "\t<tr><td>1</td><td>None</td><td>NA</td><td>1</td><td>NA</td><td>NA</td><td>1</td></tr>\n",
       "</tbody>\n",
       "</table>\n"
      ],
      "text/latex": [
       "A data.frame: 1 × 7\n",
       "\\begin{tabular}{lllllll}\n",
       " iteration & traits & posterior\\_prob & regional\\_prob & candidate\\_snp & posterior\\_explained\\_by\\_snp & dropped\\_trait\\\\\n",
       " <dbl> & <chr> & <lgl> & <dbl> & <lgl> & <dbl> & <chr>\\\\\n",
       "\\hline\n",
       "\t 1 & None & NA & 1 & NA & NA & 1\\\\\n",
       "\\end{tabular}\n"
      ],
      "text/markdown": [
       "\n",
       "A data.frame: 1 × 7\n",
       "\n",
       "| iteration &lt;dbl&gt; | traits &lt;chr&gt; | posterior_prob &lt;lgl&gt; | regional_prob &lt;dbl&gt; | candidate_snp &lt;lgl&gt; | posterior_explained_by_snp &lt;dbl&gt; | dropped_trait &lt;chr&gt; |\n",
       "|---|---|---|---|---|---|---|\n",
       "| 1 | None | NA | 1 | NA | NA | 1 |\n",
       "\n"
      ],
      "text/plain": [
       "  iteration traits posterior_prob regional_prob candidate_snp\n",
       "1 1         None   NA             1             NA           \n",
       "  posterior_explained_by_snp dropped_trait\n",
       "1 NA                         1            "
      ]
     },
     "metadata": {},
     "output_type": "display_data"
    }
   ],
   "source": [
    "res_hyprcoloc$results"
   ]
  },
  {
   "cell_type": "markdown",
   "id": "a3c53f76-99a9-47d4-b1e1-94fccfad710c",
   "metadata": {},
   "source": [
    "### COLOC (one causal assumption)"
   ]
  },
  {
   "cell_type": "code",
   "execution_count": 11,
   "id": "840d7777-d28f-400b-8031-233b6dcbcddc",
   "metadata": {
    "tags": []
   },
   "outputs": [
    {
     "name": "stderr",
     "output_type": "stream",
     "text": [
      "This is coloc version 5.2.3\n",
      "\n"
     ]
    },
    {
     "name": "stdout",
     "output_type": "stream",
     "text": [
      "PP.H0.abf PP.H1.abf PP.H2.abf PP.H3.abf PP.H4.abf \n",
      " 1.52e-43  9.07e-21  1.67e-23  1.00e+00  2.67e-08 \n",
      "[1] \"PP abf for shared variant: 2.67e-06%\"\n"
     ]
    }
   ],
   "source": [
    "library(coloc)\n",
    "LD <- get_cormat(data$X)\n",
    "colnames(LD) <- rownames(LD) <- 1:ncol(data$X)\n",
    "MAF <- colMeans(data$X)/2 %>% as.numeric\n",
    "D1 <- list(\"beta\" = betas[,1], \"varbeta\" = sebetas[,1]^2,\n",
    "           \"N\" = nrow(data$X), \"sdY\" = sd(unlist(data$Y[,1])),\n",
    "           \"type\" = 'quant', \"MAF\" = MAF, \"LD\" = LD,\n",
    "           \"snp\" = 1:ncol(data$X), \"position\" = 1:ncol(data$X))\n",
    "D2 <- list(\"beta\" = betas[,2], \"varbeta\" = sebetas[,2]^2,\n",
    "           \"N\" = nrow(data$X), \"sdY\" = sd(unlist(data$Y[,2])),\n",
    "           \"type\" = 'quant', \"MAF\" = MAF, \"LD\" = LD,\n",
    "           \"snp\" = 1:ncol(data$X), \"position\" = 1:ncol(data$X))\n",
    "my.res <- coloc.abf(dataset1=D1, dataset2=D2)"
   ]
  },
  {
   "cell_type": "markdown",
   "id": "5aae07bb-fc7e-4425-bfdd-7b2f2f811a8c",
   "metadata": {},
   "source": [
    "### COLOC (V5)"
   ]
  },
  {
   "cell_type": "code",
   "execution_count": 12,
   "id": "7cae5691-0f04-42a1-9f82-0aba3439e263",
   "metadata": {
    "tags": []
   },
   "outputs": [
    {
     "name": "stderr",
     "output_type": "stream",
     "text": [
      "running max iterations: 100\n",
      "\n",
      "\tconverged: TRUE\n",
      "\n",
      "running max iterations: 100\n",
      "\n",
      "\tconverged: TRUE\n",
      "\n"
     ]
    }
   ],
   "source": [
    "library(susieR)\n",
    "out_p <- runsusie(D1)\n",
    "out_e <- runsusie(D2)\n",
    "out_coloc = coloc.susie(out_e, out_p)"
   ]
  },
  {
   "cell_type": "code",
   "execution_count": 16,
   "id": "8fb55563-c509-4616-b969-f5f55e6ec791",
   "metadata": {
    "tags": []
   },
   "outputs": [
    {
     "data": {
      "text/html": [
       "<table class=\"dataframe\">\n",
       "<caption>A data.table: 4 × 10</caption>\n",
       "<thead>\n",
       "\t<tr><th scope=col>nsnps</th><th scope=col>hit1</th><th scope=col>hit2</th><th scope=col>PP.H0.abf</th><th scope=col>PP.H1.abf</th><th scope=col>PP.H2.abf</th><th scope=col>PP.H3.abf</th><th scope=col>PP.H4.abf</th><th scope=col>idx1</th><th scope=col>idx2</th></tr>\n",
       "\t<tr><th scope=col>&lt;int&gt;</th><th scope=col>&lt;chr&gt;</th><th scope=col>&lt;chr&gt;</th><th scope=col>&lt;dbl&gt;</th><th scope=col>&lt;dbl&gt;</th><th scope=col>&lt;dbl&gt;</th><th scope=col>&lt;dbl&gt;</th><th scope=col>&lt;dbl&gt;</th><th scope=col>&lt;int&gt;</th><th scope=col>&lt;int&gt;</th></tr>\n",
       "</thead>\n",
       "<tbody>\n",
       "\t<tr><td>7171</td><td>622 </td><td>622 </td><td>4.449045e-20</td><td>2.760137e-17</td><td>3.225755e-06</td><td>1.230759e-06</td><td>9.999955e-01</td><td>2</td><td>1</td></tr>\n",
       "\t<tr><td>7171</td><td>1305</td><td>622 </td><td>2.345981e-27</td><td>1.379226e-14</td><td>1.700940e-13</td><td>1.000000e+00</td><td>9.703266e-15</td><td>1</td><td>1</td></tr>\n",
       "\t<tr><td>7171</td><td>622 </td><td>1293</td><td>4.875114e-09</td><td>3.024466e-06</td><td>1.609233e-03</td><td>9.983500e-01</td><td>3.775247e-05</td><td>2</td><td>2</td></tr>\n",
       "\t<tr><td>7171</td><td>1305</td><td>1293</td><td>1.474162e-20</td><td>8.666749e-08</td><td>4.866083e-15</td><td>2.666151e-02</td><td>9.733384e-01</td><td>1</td><td>2</td></tr>\n",
       "</tbody>\n",
       "</table>\n"
      ],
      "text/latex": [
       "A data.table: 4 × 10\n",
       "\\begin{tabular}{llllllllll}\n",
       " nsnps & hit1 & hit2 & PP.H0.abf & PP.H1.abf & PP.H2.abf & PP.H3.abf & PP.H4.abf & idx1 & idx2\\\\\n",
       " <int> & <chr> & <chr> & <dbl> & <dbl> & <dbl> & <dbl> & <dbl> & <int> & <int>\\\\\n",
       "\\hline\n",
       "\t 7171 & 622  & 622  & 4.449045e-20 & 2.760137e-17 & 3.225755e-06 & 1.230759e-06 & 9.999955e-01 & 2 & 1\\\\\n",
       "\t 7171 & 1305 & 622  & 2.345981e-27 & 1.379226e-14 & 1.700940e-13 & 1.000000e+00 & 9.703266e-15 & 1 & 1\\\\\n",
       "\t 7171 & 622  & 1293 & 4.875114e-09 & 3.024466e-06 & 1.609233e-03 & 9.983500e-01 & 3.775247e-05 & 2 & 2\\\\\n",
       "\t 7171 & 1305 & 1293 & 1.474162e-20 & 8.666749e-08 & 4.866083e-15 & 2.666151e-02 & 9.733384e-01 & 1 & 2\\\\\n",
       "\\end{tabular}\n"
      ],
      "text/markdown": [
       "\n",
       "A data.table: 4 × 10\n",
       "\n",
       "| nsnps &lt;int&gt; | hit1 &lt;chr&gt; | hit2 &lt;chr&gt; | PP.H0.abf &lt;dbl&gt; | PP.H1.abf &lt;dbl&gt; | PP.H2.abf &lt;dbl&gt; | PP.H3.abf &lt;dbl&gt; | PP.H4.abf &lt;dbl&gt; | idx1 &lt;int&gt; | idx2 &lt;int&gt; |\n",
       "|---|---|---|---|---|---|---|---|---|---|\n",
       "| 7171 | 622  | 622  | 4.449045e-20 | 2.760137e-17 | 3.225755e-06 | 1.230759e-06 | 9.999955e-01 | 2 | 1 |\n",
       "| 7171 | 1305 | 622  | 2.345981e-27 | 1.379226e-14 | 1.700940e-13 | 1.000000e+00 | 9.703266e-15 | 1 | 1 |\n",
       "| 7171 | 622  | 1293 | 4.875114e-09 | 3.024466e-06 | 1.609233e-03 | 9.983500e-01 | 3.775247e-05 | 2 | 2 |\n",
       "| 7171 | 1305 | 1293 | 1.474162e-20 | 8.666749e-08 | 4.866083e-15 | 2.666151e-02 | 9.733384e-01 | 1 | 2 |\n",
       "\n"
      ],
      "text/plain": [
       "  nsnps hit1 hit2 PP.H0.abf    PP.H1.abf    PP.H2.abf    PP.H3.abf   \n",
       "1 7171  622  622  4.449045e-20 2.760137e-17 3.225755e-06 1.230759e-06\n",
       "2 7171  1305 622  2.345981e-27 1.379226e-14 1.700940e-13 1.000000e+00\n",
       "3 7171  622  1293 4.875114e-09 3.024466e-06 1.609233e-03 9.983500e-01\n",
       "4 7171  1305 1293 1.474162e-20 8.666749e-08 4.866083e-15 2.666151e-02\n",
       "  PP.H4.abf    idx1 idx2\n",
       "1 9.999955e-01 2    1   \n",
       "2 9.703266e-15 1    1   \n",
       "3 3.775247e-05 2    2   \n",
       "4 9.733384e-01 1    2   "
      ]
     },
     "metadata": {},
     "output_type": "display_data"
    }
   ],
   "source": [
    "out_coloc$summary"
   ]
  },
  {
   "cell_type": "code",
   "execution_count": 14,
   "id": "3481ad5a-874a-40a3-a85f-a052ba6480f8",
   "metadata": {
    "tags": []
   },
   "outputs": [
    {
     "data": {
      "text/html": [
       "'622'"
      ],
      "text/latex": [
       "'622'"
      ],
      "text/markdown": [
       "'622'"
      ],
      "text/plain": [
       "[1] \"622\""
      ]
     },
     "metadata": {},
     "output_type": "display_data"
    }
   ],
   "source": [
    "o <- order(out_coloc$results$SNP.PP.H4.row1,decreasing=TRUE)\n",
    "cs <- cumsum(out_coloc$results$SNP.PP.H4.row1[o])\n",
    "w <- which(cs > 0.95)[1]\n",
    "out_coloc$results[o,][1:w,]$snp"
   ]
  },
  {
   "cell_type": "code",
   "execution_count": 15,
   "id": "d0d067a6-f383-45aa-b2be-b51e26067e59",
   "metadata": {
    "tags": []
   },
   "outputs": [
    {
     "data": {
      "text/html": [
       "<style>\n",
       ".list-inline {list-style: none; margin:0; padding: 0}\n",
       ".list-inline>li {display: inline-block}\n",
       ".list-inline>li:not(:last-child)::after {content: \"\\00b7\"; padding: 0 .5ex}\n",
       "</style>\n",
       "<ol class=list-inline><li>'1293'</li><li>'1287'</li><li>'1270'</li><li>'1288'</li><li>'1305'</li><li>'1300'</li><li>'1275'</li><li>'1271'</li><li>'1273'</li><li>'1290'</li><li>'1291'</li></ol>\n"
      ],
      "text/latex": [
       "\\begin{enumerate*}\n",
       "\\item '1293'\n",
       "\\item '1287'\n",
       "\\item '1270'\n",
       "\\item '1288'\n",
       "\\item '1305'\n",
       "\\item '1300'\n",
       "\\item '1275'\n",
       "\\item '1271'\n",
       "\\item '1273'\n",
       "\\item '1290'\n",
       "\\item '1291'\n",
       "\\end{enumerate*}\n"
      ],
      "text/markdown": [
       "1. '1293'\n",
       "2. '1287'\n",
       "3. '1270'\n",
       "4. '1288'\n",
       "5. '1305'\n",
       "6. '1300'\n",
       "7. '1275'\n",
       "8. '1271'\n",
       "9. '1273'\n",
       "10. '1290'\n",
       "11. '1291'\n",
       "\n",
       "\n"
      ],
      "text/plain": [
       " [1] \"1293\" \"1287\" \"1270\" \"1288\" \"1305\" \"1300\" \"1275\" \"1271\" \"1273\" \"1290\"\n",
       "[11] \"1291\""
      ]
     },
     "metadata": {},
     "output_type": "display_data"
    }
   ],
   "source": [
    "o <- order(out_coloc$results$SNP.PP.H4.row4,decreasing=TRUE)\n",
    "cs <- cumsum(out_coloc$results$SNP.PP.H4.row4[o])\n",
    "w <- which(cs > 0.95)[1]\n",
    "out_coloc$results[o,][1:w,]$snp"
   ]
  },
  {
   "cell_type": "markdown",
   "id": "b2a79947-2b91-4771-aa72-c086b69ad144",
   "metadata": {},
   "source": [
    "### MOLOC"
   ]
  },
  {
   "cell_type": "code",
   "execution_count": 17,
   "id": "f859af6f-f5c8-474a-9ef8-d193a9155d31",
   "metadata": {
    "tags": []
   },
   "outputs": [
    {
     "name": "stderr",
     "output_type": "stream",
     "text": [
      "Use default priors: 1e-04,1e-05\n",
      "\n",
      "Mean estimated sdY from data1: 0.553204233945551\n",
      "\n",
      "Mean estimated sdY from data2: 0.553272188049991\n",
      "\n",
      "Use prior variances of 0.01 0.1 0.5\n",
      "\n",
      "Use prior variances of 0.01 0.1 0.5\n",
      "\n",
      "Best SNP per trait a: 622\n",
      "\n",
      "Probability that trait a colocalizes with at least one other trait = 5e-08\n",
      "\n",
      "Best SNP per trait b: 622\n",
      "\n",
      "Probability that trait b colocalizes with at least one other trait = 5e-08\n",
      "\n",
      "Best SNP per trait ab: 622\n",
      "\n",
      "Probability that trait ab colocalizes with at least one other trait = 5e-08\n",
      "\n"
     ]
    }
   ],
   "source": [
    "library(moloc)\n",
    "moloc_input <- lapply(1:2, function(cnt){\n",
    "    tibble(SNP = 1:ncol(data$X), BETA = betas[,cnt],\n",
    "           SE = sebetas[,cnt], N = nrow(data$X), MAF = MAF)\n",
    "})\n",
    "res_moloc <- moloc_test(listData = moloc_input)"
   ]
  },
  {
   "cell_type": "code",
   "execution_count": 18,
   "id": "4589d04c-9515-4f92-885b-6c36332122ce",
   "metadata": {
    "tags": []
   },
   "outputs": [
    {
     "data": {
      "text/html": [
       "<table class=\"dataframe\">\n",
       "<caption>A data.frame: 5 × 4</caption>\n",
       "<thead>\n",
       "\t<tr><th></th><th scope=col>prior</th><th scope=col>sumbf</th><th scope=col>logBF_locus</th><th scope=col>PPA</th></tr>\n",
       "\t<tr><th></th><th scope=col>&lt;dbl&gt;</th><th scope=col>&lt;dbl&gt;</th><th scope=col>&lt;dbl&gt;</th><th scope=col>&lt;dbl&gt;</th></tr>\n",
       "</thead>\n",
       "<tbody>\n",
       "\t<tr><th scope=row>a</th><td>1.00e-04</td><td> 61.06967</td><td>52.19187</td><td>1.549906e-20</td></tr>\n",
       "\t<tr><th scope=row>a,b</th><td>1.00e-08</td><td>115.89352</td><td>98.13792</td><td>1.000000e+00</td></tr>\n",
       "\t<tr><th scope=row>b</th><td>1.00e-04</td><td> 54.82385</td><td>45.94605</td><td>3.004552e-23</td></tr>\n",
       "\t<tr><th scope=row>ab</th><td>1.00e-05</td><td> 92.16766</td><td>83.28986</td><td>4.965810e-08</td></tr>\n",
       "\t<tr><th scope=row>zero</th><td>9.99e-01</td><td>  0.00000</td><td> 0.00000</td><td>4.656775e-43</td></tr>\n",
       "</tbody>\n",
       "</table>\n"
      ],
      "text/latex": [
       "A data.frame: 5 × 4\n",
       "\\begin{tabular}{r|llll}\n",
       "  & prior & sumbf & logBF\\_locus & PPA\\\\\n",
       "  & <dbl> & <dbl> & <dbl> & <dbl>\\\\\n",
       "\\hline\n",
       "\ta & 1.00e-04 &  61.06967 & 52.19187 & 1.549906e-20\\\\\n",
       "\ta,b & 1.00e-08 & 115.89352 & 98.13792 & 1.000000e+00\\\\\n",
       "\tb & 1.00e-04 &  54.82385 & 45.94605 & 3.004552e-23\\\\\n",
       "\tab & 1.00e-05 &  92.16766 & 83.28986 & 4.965810e-08\\\\\n",
       "\tzero & 9.99e-01 &   0.00000 &  0.00000 & 4.656775e-43\\\\\n",
       "\\end{tabular}\n"
      ],
      "text/markdown": [
       "\n",
       "A data.frame: 5 × 4\n",
       "\n",
       "| <!--/--> | prior &lt;dbl&gt; | sumbf &lt;dbl&gt; | logBF_locus &lt;dbl&gt; | PPA &lt;dbl&gt; |\n",
       "|---|---|---|---|---|\n",
       "| a | 1.00e-04 |  61.06967 | 52.19187 | 1.549906e-20 |\n",
       "| a,b | 1.00e-08 | 115.89352 | 98.13792 | 1.000000e+00 |\n",
       "| b | 1.00e-04 |  54.82385 | 45.94605 | 3.004552e-23 |\n",
       "| ab | 1.00e-05 |  92.16766 | 83.28986 | 4.965810e-08 |\n",
       "| zero | 9.99e-01 |   0.00000 |  0.00000 | 4.656775e-43 |\n",
       "\n"
      ],
      "text/plain": [
       "     prior    sumbf     logBF_locus PPA         \n",
       "a    1.00e-04  61.06967 52.19187    1.549906e-20\n",
       "a,b  1.00e-08 115.89352 98.13792    1.000000e+00\n",
       "b    1.00e-04  54.82385 45.94605    3.004552e-23\n",
       "ab   1.00e-05  92.16766 83.28986    4.965810e-08\n",
       "zero 9.99e-01   0.00000  0.00000    4.656775e-43"
      ]
     },
     "metadata": {},
     "output_type": "display_data"
    }
   ],
   "source": [
    "res_moloc$priors_lkl_ppa"
   ]
  },
  {
   "cell_type": "code",
   "execution_count": null,
   "id": "5dc32a0e-a7a4-46d5-8fda-e1657cb4fd68",
   "metadata": {},
   "outputs": [],
   "source": []
  },
  {
   "cell_type": "markdown",
   "id": "9e909b6b-fa14-4775-a4b0-09194dd6f246",
   "metadata": {},
   "source": [
    "## 2. LD influence"
   ]
  },
  {
   "cell_type": "code",
   "execution_count": 19,
   "id": "30c7a5f2-08b4-485d-ae79-337f7d2fd003",
   "metadata": {
    "tags": []
   },
   "outputs": [
    {
     "data": {
      "text/html": [
       "<style>\n",
       ".list-inline {list-style: none; margin:0; padding: 0}\n",
       ".list-inline>li {display: inline-block}\n",
       ".list-inline>li:not(:last-child)::after {content: \"\\00b7\"; padding: 0 .5ex}\n",
       "</style>\n",
       "<ol class=list-inline><li>654</li><li>858</li></ol>\n"
      ],
      "text/latex": [
       "\\begin{enumerate*}\n",
       "\\item 654\n",
       "\\item 858\n",
       "\\end{enumerate*}\n"
      ],
      "text/markdown": [
       "1. 654\n",
       "2. 858\n",
       "\n",
       "\n"
      ],
      "text/plain": [
       "[1] 654 858"
      ]
     },
     "metadata": {},
     "output_type": "display_data"
    }
   ],
   "source": [
    "library(tidyverse)\n",
    "data <- readRDS(\"Figure2b.rds\")$LDInfluence\n",
    "X <- data$X\n",
    "Y <- data$Y\n",
    "data$variant"
   ]
  },
  {
   "cell_type": "code",
   "execution_count": 20,
   "id": "3ab0bb00-5a6c-4e2c-a9f4-dee7ec46777f",
   "metadata": {
    "tags": []
   },
   "outputs": [
    {
     "name": "stderr",
     "output_type": "stream",
     "text": [
      "Starting checking the input data.\n",
      "\n",
      "Starting gradient boosting algorithm.\n",
      "\n",
      "Boosting iterations for outcome 1 converge after 50 iterations!\n",
      "\n",
      "Boosting iterations for outcome 2 converge after 56 iterations!\n",
      "\n",
      "Starting assemble analyses and results summary.\n",
      "\n"
     ]
    },
    {
     "data": {
      "text/html": [
       "<dl>\n",
       "\t<dt>$`cos1:y1_y2`</dt>\n",
       "\t\t<dd><style>\n",
       ".list-inline {list-style: none; margin:0; padding: 0}\n",
       ".list-inline>li {display: inline-block}\n",
       ".list-inline>li:not(:last-child)::after {content: \"\\00b7\"; padding: 0 .5ex}\n",
       "</style>\n",
       "<ol class=list-inline><li>654</li><li>721</li><li>761</li><li>797</li><li>673</li><li>677</li><li>756</li><li>720</li><li>740</li><li>678</li><li>773</li><li>777</li></ol>\n",
       "</dd>\n",
       "\t<dt>$`cos2:y1_y2`</dt>\n",
       "\t\t<dd><style>\n",
       ".list-inline {list-style: none; margin:0; padding: 0}\n",
       ".list-inline>li {display: inline-block}\n",
       ".list-inline>li:not(:last-child)::after {content: \"\\00b7\"; padding: 0 .5ex}\n",
       "</style>\n",
       "<ol class=list-inline><li>858</li><li>865</li><li>851</li><li>886</li><li>876</li><li>854</li><li>885</li></ol>\n",
       "</dd>\n",
       "</dl>\n"
      ],
      "text/latex": [
       "\\begin{description}\n",
       "\\item[\\$`cos1:y1\\_y2`] \\begin{enumerate*}\n",
       "\\item 654\n",
       "\\item 721\n",
       "\\item 761\n",
       "\\item 797\n",
       "\\item 673\n",
       "\\item 677\n",
       "\\item 756\n",
       "\\item 720\n",
       "\\item 740\n",
       "\\item 678\n",
       "\\item 773\n",
       "\\item 777\n",
       "\\end{enumerate*}\n",
       "\n",
       "\\item[\\$`cos2:y1\\_y2`] \\begin{enumerate*}\n",
       "\\item 858\n",
       "\\item 865\n",
       "\\item 851\n",
       "\\item 886\n",
       "\\item 876\n",
       "\\item 854\n",
       "\\item 885\n",
       "\\end{enumerate*}\n",
       "\n",
       "\\end{description}\n"
      ],
      "text/markdown": [
       "$`cos1:y1_y2`\n",
       ":   1. 654\n",
       "2. 721\n",
       "3. 761\n",
       "4. 797\n",
       "5. 673\n",
       "6. 677\n",
       "7. 756\n",
       "8. 720\n",
       "9. 740\n",
       "10. 678\n",
       "11. 773\n",
       "12. 777\n",
       "\n",
       "\n",
       "\n",
       "$`cos2:y1_y2`\n",
       ":   1. 858\n",
       "2. 865\n",
       "3. 851\n",
       "4. 886\n",
       "5. 876\n",
       "6. 854\n",
       "7. 885\n",
       "\n",
       "\n",
       "\n",
       "\n",
       "\n"
      ],
      "text/plain": [
       "$`cos1:y1_y2`\n",
       " [1] 654 721 761 797 673 677 756 720 740 678 773 777\n",
       "\n",
       "$`cos2:y1_y2`\n",
       "[1] 858 865 851 886 876 854 885\n"
      ]
     },
     "metadata": {},
     "output_type": "display_data"
    }
   ],
   "source": [
    "res <- colocboost(X = X, Y = Y)\n",
    "res$cos_details$cos$cos_index"
   ]
  },
  {
   "cell_type": "code",
   "execution_count": 21,
   "id": "91851b71-f6c2-4f07-9075-8c1a4e9b10cb",
   "metadata": {
    "tags": []
   },
   "outputs": [
    {
     "data": {
      "text/html": [
       "<table class=\"dataframe\">\n",
       "<caption>A data.frame: 2 × 11</caption>\n",
       "<thead>\n",
       "\t<tr><th></th><th scope=col>target_outcome</th><th scope=col>colocalized_outcomes</th><th scope=col>cos_id</th><th scope=col>purity</th><th scope=col>top_variable</th><th scope=col>top_variable_vcp</th><th scope=col>cos_npc</th><th scope=col>n_variables</th><th scope=col>colocalized_index</th><th scope=col>colocalized_variables</th><th scope=col>colocalized_variables_vcp</th></tr>\n",
       "\t<tr><th></th><th scope=col>&lt;chr&gt;</th><th scope=col>&lt;chr&gt;</th><th scope=col>&lt;chr&gt;</th><th scope=col>&lt;dbl&gt;</th><th scope=col>&lt;chr&gt;</th><th scope=col>&lt;dbl&gt;</th><th scope=col>&lt;dbl&gt;</th><th scope=col>&lt;dbl&gt;</th><th scope=col>&lt;chr&gt;</th><th scope=col>&lt;chr&gt;</th><th scope=col>&lt;chr&gt;</th></tr>\n",
       "</thead>\n",
       "<tbody>\n",
       "\t<tr><th scope=row>1</th><td>NA</td><td>Y1; Y2</td><td>cos1:y1_y2</td><td>0.8666675</td><td>chr3:113291456_G_A</td><td>0.5795202</td><td>0.9998539</td><td>12</td><td>654; 721; 761; 797; 673; 677; 756; 720; 740; 678; 773; 777</td><td>chr3:113291456_G_A; chr3:113380614_C_G; chr3:113435376_C_T; chr3:113488911_G_A; chr3:113319095_C_T; chr3:113324359_T_A; chr3:113428371_G_A; chr3:113380115_T_C; chr3:113409495_T_G; chr3:113324567_C_T; chr3:113461831_C_T; chr3:113466456_G_A</td><td>0.579520240758856; 0.104480572845164; 0.0987847668472752; 0.0503109251399289; 0.0189959656474997; 0.0189959656474997; 0.0187084377000535; 0.0178468508525379; 0.0170291789892776; 0.0157768796620922; 0.00984029893600313; 0.00984029893600313</td></tr>\n",
       "\t<tr><th scope=row>2</th><td>NA</td><td>Y1; Y2</td><td>cos2:y1_y2</td><td>0.7613753</td><td>chr3:113553856_A_G</td><td>0.6973231</td><td>0.9953521</td><td> 7</td><td>858; 865; 851; 886; 876; 854; 885                         </td><td>chr3:113553856_A_G; chr3:113565851_A_C; chr3:113546368_C_G; chr3:113589596_C_T; chr3:113577503_C_CA; chr3:113550848_G_C; chr3:113587894_C_A                                                                                                   </td><td>0.69732313670741; 0.0762661429991602; 0.0625038684045136; 0.0385803042557227; 0.0377609365848244; 0.0289674497119511; 0.0285394502640691                                                                                                      </td></tr>\n",
       "</tbody>\n",
       "</table>\n"
      ],
      "text/latex": [
       "A data.frame: 2 × 11\n",
       "\\begin{tabular}{r|lllllllllll}\n",
       "  & target\\_outcome & colocalized\\_outcomes & cos\\_id & purity & top\\_variable & top\\_variable\\_vcp & cos\\_npc & n\\_variables & colocalized\\_index & colocalized\\_variables & colocalized\\_variables\\_vcp\\\\\n",
       "  & <chr> & <chr> & <chr> & <dbl> & <chr> & <dbl> & <dbl> & <dbl> & <chr> & <chr> & <chr>\\\\\n",
       "\\hline\n",
       "\t1 & NA & Y1; Y2 & cos1:y1\\_y2 & 0.8666675 & chr3:113291456\\_G\\_A & 0.5795202 & 0.9998539 & 12 & 654; 721; 761; 797; 673; 677; 756; 720; 740; 678; 773; 777 & chr3:113291456\\_G\\_A; chr3:113380614\\_C\\_G; chr3:113435376\\_C\\_T; chr3:113488911\\_G\\_A; chr3:113319095\\_C\\_T; chr3:113324359\\_T\\_A; chr3:113428371\\_G\\_A; chr3:113380115\\_T\\_C; chr3:113409495\\_T\\_G; chr3:113324567\\_C\\_T; chr3:113461831\\_C\\_T; chr3:113466456\\_G\\_A & 0.579520240758856; 0.104480572845164; 0.0987847668472752; 0.0503109251399289; 0.0189959656474997; 0.0189959656474997; 0.0187084377000535; 0.0178468508525379; 0.0170291789892776; 0.0157768796620922; 0.00984029893600313; 0.00984029893600313\\\\\n",
       "\t2 & NA & Y1; Y2 & cos2:y1\\_y2 & 0.7613753 & chr3:113553856\\_A\\_G & 0.6973231 & 0.9953521 &  7 & 858; 865; 851; 886; 876; 854; 885                          & chr3:113553856\\_A\\_G; chr3:113565851\\_A\\_C; chr3:113546368\\_C\\_G; chr3:113589596\\_C\\_T; chr3:113577503\\_C\\_CA; chr3:113550848\\_G\\_C; chr3:113587894\\_C\\_A                                                                                                    & 0.69732313670741; 0.0762661429991602; 0.0625038684045136; 0.0385803042557227; 0.0377609365848244; 0.0289674497119511; 0.0285394502640691                                                                                                      \\\\\n",
       "\\end{tabular}\n"
      ],
      "text/markdown": [
       "\n",
       "A data.frame: 2 × 11\n",
       "\n",
       "| <!--/--> | target_outcome &lt;chr&gt; | colocalized_outcomes &lt;chr&gt; | cos_id &lt;chr&gt; | purity &lt;dbl&gt; | top_variable &lt;chr&gt; | top_variable_vcp &lt;dbl&gt; | cos_npc &lt;dbl&gt; | n_variables &lt;dbl&gt; | colocalized_index &lt;chr&gt; | colocalized_variables &lt;chr&gt; | colocalized_variables_vcp &lt;chr&gt; |\n",
       "|---|---|---|---|---|---|---|---|---|---|---|---|\n",
       "| 1 | NA | Y1; Y2 | cos1:y1_y2 | 0.8666675 | chr3:113291456_G_A | 0.5795202 | 0.9998539 | 12 | 654; 721; 761; 797; 673; 677; 756; 720; 740; 678; 773; 777 | chr3:113291456_G_A; chr3:113380614_C_G; chr3:113435376_C_T; chr3:113488911_G_A; chr3:113319095_C_T; chr3:113324359_T_A; chr3:113428371_G_A; chr3:113380115_T_C; chr3:113409495_T_G; chr3:113324567_C_T; chr3:113461831_C_T; chr3:113466456_G_A | 0.579520240758856; 0.104480572845164; 0.0987847668472752; 0.0503109251399289; 0.0189959656474997; 0.0189959656474997; 0.0187084377000535; 0.0178468508525379; 0.0170291789892776; 0.0157768796620922; 0.00984029893600313; 0.00984029893600313 |\n",
       "| 2 | NA | Y1; Y2 | cos2:y1_y2 | 0.7613753 | chr3:113553856_A_G | 0.6973231 | 0.9953521 |  7 | 858; 865; 851; 886; 876; 854; 885                          | chr3:113553856_A_G; chr3:113565851_A_C; chr3:113546368_C_G; chr3:113589596_C_T; chr3:113577503_C_CA; chr3:113550848_G_C; chr3:113587894_C_A                                                                                                    | 0.69732313670741; 0.0762661429991602; 0.0625038684045136; 0.0385803042557227; 0.0377609365848244; 0.0289674497119511; 0.0285394502640691                                                                                                       |\n",
       "\n"
      ],
      "text/plain": [
       "  target_outcome colocalized_outcomes cos_id     purity    top_variable      \n",
       "1 NA             Y1; Y2               cos1:y1_y2 0.8666675 chr3:113291456_G_A\n",
       "2 NA             Y1; Y2               cos2:y1_y2 0.7613753 chr3:113553856_A_G\n",
       "  top_variable_vcp cos_npc   n_variables\n",
       "1 0.5795202        0.9998539 12         \n",
       "2 0.6973231        0.9953521  7         \n",
       "  colocalized_index                                         \n",
       "1 654; 721; 761; 797; 673; 677; 756; 720; 740; 678; 773; 777\n",
       "2 858; 865; 851; 886; 876; 854; 885                         \n",
       "  colocalized_variables                                                                                                                                                                                                                         \n",
       "1 chr3:113291456_G_A; chr3:113380614_C_G; chr3:113435376_C_T; chr3:113488911_G_A; chr3:113319095_C_T; chr3:113324359_T_A; chr3:113428371_G_A; chr3:113380115_T_C; chr3:113409495_T_G; chr3:113324567_C_T; chr3:113461831_C_T; chr3:113466456_G_A\n",
       "2 chr3:113553856_A_G; chr3:113565851_A_C; chr3:113546368_C_G; chr3:113589596_C_T; chr3:113577503_C_CA; chr3:113550848_G_C; chr3:113587894_C_A                                                                                                   \n",
       "  colocalized_variables_vcp                                                                                                                                                                                                                     \n",
       "1 0.579520240758856; 0.104480572845164; 0.0987847668472752; 0.0503109251399289; 0.0189959656474997; 0.0189959656474997; 0.0187084377000535; 0.0178468508525379; 0.0170291789892776; 0.0157768796620922; 0.00984029893600313; 0.00984029893600313\n",
       "2 0.69732313670741; 0.0762661429991602; 0.0625038684045136; 0.0385803042557227; 0.0377609365848244; 0.0289674497119511; 0.0285394502640691                                                                                                      "
      ]
     },
     "metadata": {},
     "output_type": "display_data"
    }
   ],
   "source": [
    "res$cos_summary"
   ]
  },
  {
   "cell_type": "code",
   "execution_count": 22,
   "id": "0714afe0-3790-4aa7-bdaf-bfebb821ae39",
   "metadata": {
    "tags": []
   },
   "outputs": [
    {
     "data": {
      "image/png": "[encoded data removed]",
      "text/plain": [
       "plot without title"
      ]
     },
     "metadata": {
      "image/png": {
       "height": 360,
       "width": 600
      }
     },
     "output_type": "display_data"
    }
   ],
   "source": [
    "options(repr.plot.width = 10, repr.plot.height = 6)\n",
    "colocboost_plot(res, plot_cols = 1, add_vertical = T, add_vertical_idx = c(data$variant))"
   ]
  },
  {
   "cell_type": "code",
   "execution_count": 23,
   "id": "69d95913-b451-41a8-bdca-ab98c1c5345b",
   "metadata": {
    "tags": []
   },
   "outputs": [
    {
     "data": {
      "image/png": "[encoded data removed]",
      "text/plain": [
       "plot without title"
      ]
     },
     "metadata": {
      "image/png": {
       "height": 360,
       "width": 600
      }
     },
     "output_type": "display_data"
    }
   ],
   "source": [
    "colocboost_plot(res, y = \"vcp\", plot_cols = 1, add_vertical = T, add_vertical_idx = c(data$variant))"
   ]
  },
  {
   "cell_type": "markdown",
   "id": "e0344867-44a9-4390-9e1a-766b0c4fa68a",
   "metadata": {},
   "source": [
    "### HyPrColoc"
   ]
  },
  {
   "cell_type": "code",
   "execution_count": 24,
   "id": "b711c956-6627-4800-aa90-5658dc7e2914",
   "metadata": {
    "tags": []
   },
   "outputs": [],
   "source": [
    "library(hyprcoloc)\n",
    "betas = sebetas = matrix(NA, nrow = ncol(X), ncol = 2) \n",
    "for (i in 1:2){\n",
    "    x <- scale(X)\n",
    "    y <- scale(Y[,i])\n",
    "    rr <- susieR::univariate_regression(x, y)\n",
    "    betas[,i] = rr$betahat\n",
    "    sebetas[, i] <- rr$sebetahat\n",
    "}\n",
    "traits <- c(1:2)\n",
    "rsid <- paste0(\"snp\", c(1:ncol(X)))\n",
    "colnames(betas) <- colnames(sebetas) <- traits\n",
    "rownames(betas) <- rownames(sebetas) <- rsid\n",
    "res_hyprcoloc <- hyprcoloc(betas, sebetas, trait.names=traits, snp.id=rsid, snpscores = TRUE)"
   ]
  },
  {
   "cell_type": "code",
   "execution_count": 25,
   "id": "b4e592c2-bf9f-44fc-974f-c9c66ea84668",
   "metadata": {
    "tags": []
   },
   "outputs": [
    {
     "data": {
      "text/html": [
       "<table class=\"dataframe\">\n",
       "<caption>A data.frame: 1 × 7</caption>\n",
       "<thead>\n",
       "\t<tr><th scope=col>iteration</th><th scope=col>traits</th><th scope=col>posterior_prob</th><th scope=col>regional_prob</th><th scope=col>candidate_snp</th><th scope=col>posterior_explained_by_snp</th><th scope=col>dropped_trait</th></tr>\n",
       "\t<tr><th scope=col>&lt;dbl&gt;</th><th scope=col>&lt;chr&gt;</th><th scope=col>&lt;dbl&gt;</th><th scope=col>&lt;dbl&gt;</th><th scope=col>&lt;chr&gt;</th><th scope=col>&lt;dbl&gt;</th><th scope=col>&lt;lgl&gt;</th></tr>\n",
       "</thead>\n",
       "<tbody>\n",
       "\t<tr><td>1</td><td>1, 2</td><td>0.9995</td><td>1</td><td>snp721</td><td>1</td><td>NA</td></tr>\n",
       "</tbody>\n",
       "</table>\n"
      ],
      "text/latex": [
       "A data.frame: 1 × 7\n",
       "\\begin{tabular}{lllllll}\n",
       " iteration & traits & posterior\\_prob & regional\\_prob & candidate\\_snp & posterior\\_explained\\_by\\_snp & dropped\\_trait\\\\\n",
       " <dbl> & <chr> & <dbl> & <dbl> & <chr> & <dbl> & <lgl>\\\\\n",
       "\\hline\n",
       "\t 1 & 1, 2 & 0.9995 & 1 & snp721 & 1 & NA\\\\\n",
       "\\end{tabular}\n"
      ],
      "text/markdown": [
       "\n",
       "A data.frame: 1 × 7\n",
       "\n",
       "| iteration &lt;dbl&gt; | traits &lt;chr&gt; | posterior_prob &lt;dbl&gt; | regional_prob &lt;dbl&gt; | candidate_snp &lt;chr&gt; | posterior_explained_by_snp &lt;dbl&gt; | dropped_trait &lt;lgl&gt; |\n",
       "|---|---|---|---|---|---|---|\n",
       "| 1 | 1, 2 | 0.9995 | 1 | snp721 | 1 | NA |\n",
       "\n"
      ],
      "text/plain": [
       "  iteration traits posterior_prob regional_prob candidate_snp\n",
       "1 1         1, 2   0.9995         1             snp721       \n",
       "  posterior_explained_by_snp dropped_trait\n",
       "1 1                          NA           "
      ]
     },
     "metadata": {},
     "output_type": "display_data"
    }
   ],
   "source": [
    "res_hyprcoloc$results"
   ]
  },
  {
   "cell_type": "markdown",
   "id": "15a4417e-4c65-465d-bd11-0b1424f8e264",
   "metadata": {},
   "source": [
    "### COLOC (one causal assumption)"
   ]
  },
  {
   "cell_type": "code",
   "execution_count": 26,
   "id": "5bc55518-1011-46b4-b16c-599a5a069be8",
   "metadata": {
    "tags": []
   },
   "outputs": [
    {
     "name": "stdout",
     "output_type": "stream",
     "text": [
      "PP.H0.abf PP.H1.abf PP.H2.abf PP.H3.abf PP.H4.abf \n",
      " 6.41e-51  2.21e-28  3.44e-26  1.86e-04  1.00e+00 \n",
      "[1] \"PP abf for shared variant: 100%\"\n"
     ]
    }
   ],
   "source": [
    "library(coloc)\n",
    "LD <- get_cormat(data$X)\n",
    "colnames(LD) <- rownames(LD) <- 1:ncol(data$X)\n",
    "MAF <- colMeans(data$X)/2 %>% as.numeric\n",
    "D1 <- list(\"beta\" = betas[,1], \"varbeta\" = sebetas[,1]^2,\n",
    "           \"N\" = nrow(data$X), \"sdY\" = sd(unlist(data$Y[,1])),\n",
    "           \"type\" = 'quant', \"MAF\" = MAF, \"LD\" = LD,\n",
    "           \"snp\" = 1:ncol(data$X), \"position\" = 1:ncol(data$X))\n",
    "D2 <- list(\"beta\" = betas[,2], \"varbeta\" = sebetas[,2]^2,\n",
    "           \"N\" = nrow(data$X), \"sdY\" = sd(unlist(data$Y[,2])),\n",
    "           \"type\" = 'quant', \"MAF\" = MAF, \"LD\" = LD,\n",
    "           \"snp\" = 1:ncol(data$X), \"position\" = 1:ncol(data$X))\n",
    "my.res <- coloc.abf(dataset1=D1, dataset2=D2)"
   ]
  },
  {
   "cell_type": "code",
   "execution_count": 27,
   "id": "1fd5be5c-ec82-40bf-861a-3ecd93b1af7d",
   "metadata": {
    "tags": []
   },
   "outputs": [
    {
     "data": {
      "text/html": [
       "'721'"
      ],
      "text/latex": [
       "'721'"
      ],
      "text/markdown": [
       "'721'"
      ],
      "text/plain": [
       "[1] \"721\""
      ]
     },
     "metadata": {},
     "output_type": "display_data"
    }
   ],
   "source": [
    "o <- order(my.res$results$SNP.PP.H4,decreasing=TRUE)\n",
    "cs <- cumsum(my.res$results$SNP.PP.H4[o])\n",
    "w <- which(cs > 0.95)[1]\n",
    "my.res$results[o,][1:w,]$snp"
   ]
  },
  {
   "cell_type": "markdown",
   "id": "ad1ed1a7-ab5c-48ab-b52c-a2c18efe1b19",
   "metadata": {},
   "source": [
    "### COLOC (V5)"
   ]
  },
  {
   "cell_type": "code",
   "execution_count": 28,
   "id": "89c7bf22-1083-4c07-95a9-4c2476d9c642",
   "metadata": {
    "tags": []
   },
   "outputs": [
    {
     "name": "stderr",
     "output_type": "stream",
     "text": [
      "running max iterations: 100\n",
      "\n",
      "\tconverged: TRUE\n",
      "\n",
      "running max iterations: 100\n",
      "\n",
      "\tconverged: TRUE\n",
      "\n"
     ]
    }
   ],
   "source": [
    "library(susieR)\n",
    "out_p <- runsusie(D1)\n",
    "out_e <- runsusie(D2)\n",
    "out_coloc = coloc.susie(out_e, out_p)"
   ]
  },
  {
   "cell_type": "code",
   "execution_count": 30,
   "id": "dd27a726-dd78-4ccf-baab-0377f4bffc81",
   "metadata": {
    "tags": []
   },
   "outputs": [
    {
     "data": {
      "text/html": [
       "<table class=\"dataframe\">\n",
       "<caption>A data.table: 4 × 10</caption>\n",
       "<thead>\n",
       "\t<tr><th scope=col>nsnps</th><th scope=col>hit1</th><th scope=col>hit2</th><th scope=col>PP.H0.abf</th><th scope=col>PP.H1.abf</th><th scope=col>PP.H2.abf</th><th scope=col>PP.H3.abf</th><th scope=col>PP.H4.abf</th><th scope=col>idx1</th><th scope=col>idx2</th></tr>\n",
       "\t<tr><th scope=col>&lt;int&gt;</th><th scope=col>&lt;chr&gt;</th><th scope=col>&lt;chr&gt;</th><th scope=col>&lt;dbl&gt;</th><th scope=col>&lt;dbl&gt;</th><th scope=col>&lt;dbl&gt;</th><th scope=col>&lt;dbl&gt;</th><th scope=col>&lt;dbl&gt;</th><th scope=col>&lt;int&gt;</th><th scope=col>&lt;int&gt;</th></tr>\n",
       "</thead>\n",
       "<tbody>\n",
       "\t<tr><td>2173</td><td>858</td><td>721</td><td>1.881246e-22</td><td>8.707276e-12</td><td>2.160545e-11</td><td>1.00000000</td><td>1.365427e-09</td><td>2</td><td>1</td></tr>\n",
       "\t<tr><td>2173</td><td>654</td><td>721</td><td>5.473946e-22</td><td>5.504942e-13</td><td>6.286635e-11</td><td>0.06134501</td><td>9.386550e-01</td><td>1</td><td>1</td></tr>\n",
       "\t<tr><td>2173</td><td>858</td><td>876</td><td>1.105384e-14</td><td>5.116227e-04</td><td>8.633527e-12</td><td>0.39839732</td><td>6.010911e-01</td><td>2</td><td>2</td></tr>\n",
       "\t<tr><td>2173</td><td>654</td><td>876</td><td>1.270849e-12</td><td>1.278045e-03</td><td>9.925880e-10</td><td>0.99820733</td><td>5.146237e-04</td><td>1</td><td>2</td></tr>\n",
       "</tbody>\n",
       "</table>\n"
      ],
      "text/latex": [
       "A data.table: 4 × 10\n",
       "\\begin{tabular}{llllllllll}\n",
       " nsnps & hit1 & hit2 & PP.H0.abf & PP.H1.abf & PP.H2.abf & PP.H3.abf & PP.H4.abf & idx1 & idx2\\\\\n",
       " <int> & <chr> & <chr> & <dbl> & <dbl> & <dbl> & <dbl> & <dbl> & <int> & <int>\\\\\n",
       "\\hline\n",
       "\t 2173 & 858 & 721 & 1.881246e-22 & 8.707276e-12 & 2.160545e-11 & 1.00000000 & 1.365427e-09 & 2 & 1\\\\\n",
       "\t 2173 & 654 & 721 & 5.473946e-22 & 5.504942e-13 & 6.286635e-11 & 0.06134501 & 9.386550e-01 & 1 & 1\\\\\n",
       "\t 2173 & 858 & 876 & 1.105384e-14 & 5.116227e-04 & 8.633527e-12 & 0.39839732 & 6.010911e-01 & 2 & 2\\\\\n",
       "\t 2173 & 654 & 876 & 1.270849e-12 & 1.278045e-03 & 9.925880e-10 & 0.99820733 & 5.146237e-04 & 1 & 2\\\\\n",
       "\\end{tabular}\n"
      ],
      "text/markdown": [
       "\n",
       "A data.table: 4 × 10\n",
       "\n",
       "| nsnps &lt;int&gt; | hit1 &lt;chr&gt; | hit2 &lt;chr&gt; | PP.H0.abf &lt;dbl&gt; | PP.H1.abf &lt;dbl&gt; | PP.H2.abf &lt;dbl&gt; | PP.H3.abf &lt;dbl&gt; | PP.H4.abf &lt;dbl&gt; | idx1 &lt;int&gt; | idx2 &lt;int&gt; |\n",
       "|---|---|---|---|---|---|---|---|---|---|\n",
       "| 2173 | 858 | 721 | 1.881246e-22 | 8.707276e-12 | 2.160545e-11 | 1.00000000 | 1.365427e-09 | 2 | 1 |\n",
       "| 2173 | 654 | 721 | 5.473946e-22 | 5.504942e-13 | 6.286635e-11 | 0.06134501 | 9.386550e-01 | 1 | 1 |\n",
       "| 2173 | 858 | 876 | 1.105384e-14 | 5.116227e-04 | 8.633527e-12 | 0.39839732 | 6.010911e-01 | 2 | 2 |\n",
       "| 2173 | 654 | 876 | 1.270849e-12 | 1.278045e-03 | 9.925880e-10 | 0.99820733 | 5.146237e-04 | 1 | 2 |\n",
       "\n"
      ],
      "text/plain": [
       "  nsnps hit1 hit2 PP.H0.abf    PP.H1.abf    PP.H2.abf    PP.H3.abf \n",
       "1 2173  858  721  1.881246e-22 8.707276e-12 2.160545e-11 1.00000000\n",
       "2 2173  654  721  5.473946e-22 5.504942e-13 6.286635e-11 0.06134501\n",
       "3 2173  858  876  1.105384e-14 5.116227e-04 8.633527e-12 0.39839732\n",
       "4 2173  654  876  1.270849e-12 1.278045e-03 9.925880e-10 0.99820733\n",
       "  PP.H4.abf    idx1 idx2\n",
       "1 1.365427e-09 2    1   \n",
       "2 9.386550e-01 1    1   \n",
       "3 6.010911e-01 2    2   \n",
       "4 5.146237e-04 1    2   "
      ]
     },
     "metadata": {},
     "output_type": "display_data"
    }
   ],
   "source": [
    "out_coloc$summary"
   ]
  },
  {
   "cell_type": "code",
   "execution_count": 31,
   "id": "c45bf4db-89a3-45d5-8ab7-4a82de87f97a",
   "metadata": {
    "tags": []
   },
   "outputs": [
    {
     "data": {
      "text/html": [
       "<style>\n",
       ".list-inline {list-style: none; margin:0; padding: 0}\n",
       ".list-inline>li {display: inline-block}\n",
       ".list-inline>li:not(:last-child)::after {content: \"\\00b7\"; padding: 0 .5ex}\n",
       "</style>\n",
       "<ol class=list-inline><li>'654'</li><li>'721'</li><li>'761'</li><li>'673'</li><li>'677'</li><li>'797'</li></ol>\n"
      ],
      "text/latex": [
       "\\begin{enumerate*}\n",
       "\\item '654'\n",
       "\\item '721'\n",
       "\\item '761'\n",
       "\\item '673'\n",
       "\\item '677'\n",
       "\\item '797'\n",
       "\\end{enumerate*}\n"
      ],
      "text/markdown": [
       "1. '654'\n",
       "2. '721'\n",
       "3. '761'\n",
       "4. '673'\n",
       "5. '677'\n",
       "6. '797'\n",
       "\n",
       "\n"
      ],
      "text/plain": [
       "[1] \"654\" \"721\" \"761\" \"673\" \"677\" \"797\""
      ]
     },
     "metadata": {},
     "output_type": "display_data"
    }
   ],
   "source": [
    "o <- order(out_coloc$results$SNP.PP.H4.row2,decreasing=TRUE)\n",
    "cs <- cumsum(out_coloc$results$SNP.PP.H4.row2[o])\n",
    "w <- which(cs > 0.95)[1]\n",
    "out_coloc$results[o,][1:w,]$snp"
   ]
  },
  {
   "cell_type": "code",
   "execution_count": 32,
   "id": "124546ad-a31e-4ce0-b5e8-eac173ef6e68",
   "metadata": {
    "tags": []
   },
   "outputs": [
    {
     "data": {
      "text/html": [
       "'858'"
      ],
      "text/latex": [
       "'858'"
      ],
      "text/markdown": [
       "'858'"
      ],
      "text/plain": [
       "[1] \"858\""
      ]
     },
     "metadata": {},
     "output_type": "display_data"
    }
   ],
   "source": [
    "o <- order(out_coloc$results$SNP.PP.H4.row3,decreasing=TRUE)\n",
    "cs <- cumsum(out_coloc$results$SNP.PP.H4.row3[o])\n",
    "w <- which(cs > 0.95)[1]\n",
    "out_coloc$results[o,][1:w,]$snp"
   ]
  },
  {
   "cell_type": "markdown",
   "id": "cc7269a1-ed10-411d-9b82-c516dced148b",
   "metadata": {},
   "source": [
    "### MOLOC"
   ]
  },
  {
   "cell_type": "code",
   "execution_count": 33,
   "id": "ad434793-04f9-45a0-90d5-67dd9c091184",
   "metadata": {
    "tags": []
   },
   "outputs": [
    {
     "name": "stderr",
     "output_type": "stream",
     "text": [
      "Use default priors: 1e-04,1e-05\n",
      "\n",
      "Mean estimated sdY from data1: 0.553434902059988\n",
      "\n",
      "Mean estimated sdY from data2: 0.553187001637554\n",
      "\n",
      "Use prior variances of 0.01 0.1 0.5\n",
      "\n",
      "Use prior variances of 0.01 0.1 0.5\n",
      "\n",
      "Best SNP per trait a: 721\n",
      "\n",
      "Probability that trait a colocalizes with at least one other trait = 1\n",
      "\n",
      "Best SNP per trait b: 721\n",
      "\n",
      "Probability that trait b colocalizes with at least one other trait = 1\n",
      "\n",
      "Best SNP per trait ab: 721\n",
      "\n",
      "Probability that trait ab colocalizes with at least one other trait = 1\n",
      "\n"
     ]
    }
   ],
   "source": [
    "library(moloc)\n",
    "moloc_input <- lapply(1:2, function(cnt){\n",
    "    tibble(SNP = 1:ncol(data$X), BETA = betas[,cnt],\n",
    "           SE = sebetas[,cnt], N = nrow(data$X), MAF = MAF)\n",
    "})\n",
    "res_moloc <- moloc_test(listData = moloc_input)"
   ]
  },
  {
   "cell_type": "code",
   "execution_count": 34,
   "id": "c3a1479b-74cc-47c4-8a22-d3e19da315e5",
   "metadata": {
    "tags": []
   },
   "outputs": [
    {
     "data": {
      "text/html": [
       "<table class=\"dataframe\">\n",
       "<caption>A data.frame: 5 × 4</caption>\n",
       "<thead>\n",
       "\t<tr><th></th><th scope=col>prior</th><th scope=col>sumbf</th><th scope=col>logBF_locus</th><th scope=col>PPA</th></tr>\n",
       "\t<tr><th></th><th scope=col>&lt;dbl&gt;</th><th scope=col>&lt;dbl&gt;</th><th scope=col>&lt;dbl&gt;</th><th scope=col>&lt;dbl&gt;</th></tr>\n",
       "</thead>\n",
       "<tbody>\n",
       "\t<tr><th scope=row>a</th><td>1.00e-04</td><td> 60.59171</td><td> 52.90784</td><td>2.492328e-28</td></tr>\n",
       "\t<tr><th scope=row>a,b</th><td>1.00e-08</td><td>125.07877</td><td>109.71104</td><td>2.529180e-04</td></tr>\n",
       "\t<tr><th scope=row>b</th><td>1.00e-04</td><td> 65.56983</td><td> 57.88597</td><td>3.618911e-26</td></tr>\n",
       "\t<tr><th scope=row>ab</th><td>1.00e-05</td><td>126.45320</td><td>118.76934</td><td>9.997471e-01</td></tr>\n",
       "\t<tr><th scope=row>zero</th><td>9.99e-01</td><td>  0.00000</td><td>  0.00000</td><td>1.207708e-50</td></tr>\n",
       "</tbody>\n",
       "</table>\n"
      ],
      "text/latex": [
       "A data.frame: 5 × 4\n",
       "\\begin{tabular}{r|llll}\n",
       "  & prior & sumbf & logBF\\_locus & PPA\\\\\n",
       "  & <dbl> & <dbl> & <dbl> & <dbl>\\\\\n",
       "\\hline\n",
       "\ta & 1.00e-04 &  60.59171 &  52.90784 & 2.492328e-28\\\\\n",
       "\ta,b & 1.00e-08 & 125.07877 & 109.71104 & 2.529180e-04\\\\\n",
       "\tb & 1.00e-04 &  65.56983 &  57.88597 & 3.618911e-26\\\\\n",
       "\tab & 1.00e-05 & 126.45320 & 118.76934 & 9.997471e-01\\\\\n",
       "\tzero & 9.99e-01 &   0.00000 &   0.00000 & 1.207708e-50\\\\\n",
       "\\end{tabular}\n"
      ],
      "text/markdown": [
       "\n",
       "A data.frame: 5 × 4\n",
       "\n",
       "| <!--/--> | prior &lt;dbl&gt; | sumbf &lt;dbl&gt; | logBF_locus &lt;dbl&gt; | PPA &lt;dbl&gt; |\n",
       "|---|---|---|---|---|\n",
       "| a | 1.00e-04 |  60.59171 |  52.90784 | 2.492328e-28 |\n",
       "| a,b | 1.00e-08 | 125.07877 | 109.71104 | 2.529180e-04 |\n",
       "| b | 1.00e-04 |  65.56983 |  57.88597 | 3.618911e-26 |\n",
       "| ab | 1.00e-05 | 126.45320 | 118.76934 | 9.997471e-01 |\n",
       "| zero | 9.99e-01 |   0.00000 |   0.00000 | 1.207708e-50 |\n",
       "\n"
      ],
      "text/plain": [
       "     prior    sumbf     logBF_locus PPA         \n",
       "a    1.00e-04  60.59171  52.90784   2.492328e-28\n",
       "a,b  1.00e-08 125.07877 109.71104   2.529180e-04\n",
       "b    1.00e-04  65.56983  57.88597   3.618911e-26\n",
       "ab   1.00e-05 126.45320 118.76934   9.997471e-01\n",
       "zero 9.99e-01   0.00000   0.00000   1.207708e-50"
      ]
     },
     "metadata": {},
     "output_type": "display_data"
    }
   ],
   "source": [
    "res_moloc$priors_lkl_ppa"
   ]
  },
  {
   "cell_type": "code",
   "execution_count": 35,
   "id": "2619631c-36b3-48c3-86bd-4abca612cfdb",
   "metadata": {
    "tags": []
   },
   "outputs": [
    {
     "data": {
      "text/html": [
       "<table class=\"dataframe\">\n",
       "<caption>A data.frame: 3 × 2</caption>\n",
       "<thead>\n",
       "\t<tr><th></th><th scope=col>coloc_ppas</th><th scope=col>best.snp.coloc</th></tr>\n",
       "\t<tr><th></th><th scope=col>&lt;dbl&gt;</th><th scope=col>&lt;chr&gt;</th></tr>\n",
       "</thead>\n",
       "<tbody>\n",
       "\t<tr><th scope=row>a</th><td>0.9997471</td><td>721</td></tr>\n",
       "\t<tr><th scope=row>b</th><td>0.9997471</td><td>721</td></tr>\n",
       "\t<tr><th scope=row>ab</th><td>0.9997471</td><td>721</td></tr>\n",
       "</tbody>\n",
       "</table>\n"
      ],
      "text/latex": [
       "A data.frame: 3 × 2\n",
       "\\begin{tabular}{r|ll}\n",
       "  & coloc\\_ppas & best.snp.coloc\\\\\n",
       "  & <dbl> & <chr>\\\\\n",
       "\\hline\n",
       "\ta & 0.9997471 & 721\\\\\n",
       "\tb & 0.9997471 & 721\\\\\n",
       "\tab & 0.9997471 & 721\\\\\n",
       "\\end{tabular}\n"
      ],
      "text/markdown": [
       "\n",
       "A data.frame: 3 × 2\n",
       "\n",
       "| <!--/--> | coloc_ppas &lt;dbl&gt; | best.snp.coloc &lt;chr&gt; |\n",
       "|---|---|---|\n",
       "| a | 0.9997471 | 721 |\n",
       "| b | 0.9997471 | 721 |\n",
       "| ab | 0.9997471 | 721 |\n",
       "\n"
      ],
      "text/plain": [
       "   coloc_ppas best.snp.coloc\n",
       "a  0.9997471  721           \n",
       "b  0.9997471  721           \n",
       "ab 0.9997471  721           "
      ]
     },
     "metadata": {},
     "output_type": "display_data"
    }
   ],
   "source": [
    "res_moloc$best_snp"
   ]
  },
  {
   "cell_type": "code",
   "execution_count": null,
   "id": "74e3343d-c5e6-47e8-b6cf-354b54f94f10",
   "metadata": {},
   "outputs": [],
   "source": []
  }
 ],
 "metadata": {
  "kernelspec": {
   "display_name": "R",
   "language": "R",
   "name": "ir"
  },
  "language_info": {
   "codemirror_mode": "r",
   "file_extension": ".r",
   "mimetype": "text/x-r-source",
   "name": "R",
   "pygments_lexer": "r",
   "version": "4.3.3"
  }
 },
 "nbformat": 4,
 "nbformat_minor": 5
}
