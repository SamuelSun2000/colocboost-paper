{
 "cells": [
  {
   "attachments": {},
   "cell_type": "markdown",
   "id": "24e71e1d-e45e-4ebe-adfb-8ef52d66018e",
   "metadata": {},
   "source": [
    "# Figure 2b. Representative simulation examples.\n",
    "\n",
    "Representative simulation example highlighting a scenario which ColocBoost correctly resolves, but HyPrColoc misses true signals and admis false positives. "
   ]
  },
  {
   "cell_type": "code",
   "execution_count": null,
   "id": "e62724ce-8683-4d6b-84c6-c6a23ddecf91",
   "metadata": {},
   "outputs": [],
   "source": []
  },
  {
   "cell_type": "code",
   "execution_count": null,
   "id": "1c43f09f-20f5-49cd-8c4d-fd206d4e2f1d",
   "metadata": {},
   "outputs": [],
   "source": []
  },
  {
   "cell_type": "code",
   "execution_count": null,
   "id": "1e590c83-5831-4132-837a-d46f7e9015a3",
   "metadata": {},
   "outputs": [],
   "source": []
  },
  {
   "cell_type": "code",
   "execution_count": null,
   "id": "acd2facb-295f-40f8-9bdf-cab1d4c4ae02",
   "metadata": {},
   "outputs": [],
   "source": []
  }
 ],
 "metadata": {
  "kernelspec": {
   "display_name": "R",
   "language": "R",
   "name": "ir"
  },
  "language_info": {
   "codemirror_mode": "r",
   "file_extension": ".r",
   "mimetype": "text/x-r-source",
   "name": "R",
   "pygments_lexer": "r",
   "version": "4.4.1"
  }
 },
 "nbformat": 4,
 "nbformat_minor": 5
}
